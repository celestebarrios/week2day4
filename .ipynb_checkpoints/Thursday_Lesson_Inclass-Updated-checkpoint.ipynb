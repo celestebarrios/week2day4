{
 "cells": [
  {
   "cell_type": "markdown",
   "metadata": {},
   "source": [
    "# Object-Oriented-Programming (OOP)"
   ]
  },
  {
   "cell_type": "markdown",
   "metadata": {},
   "source": [
    "## Tasks Today:\n",
    "\n",
    "<b>Bonus Topics</b>\n",
    "<br>\n",
    "- Common DataStructure\n",
    "    -Linked List\n",
    "    \n",
    "\n",
    "1) <b>Creating a Class (Initializing/Declaring)</b> <br>\n",
    "2) <b>Using a Class (Instantiating)</b> <br>\n",
    " &nbsp;&nbsp;&nbsp;&nbsp; a) Creating One Instance <br>\n",
    " &nbsp;&nbsp;&nbsp;&nbsp; b) Creating Multiple Instances <br>\n",
    " &nbsp;&nbsp;&nbsp;&nbsp; c) In-Class Exercise #1 - Create a Class 'Car' and instantiate three different makes of cars <br>\n",
    "3) <b>The \\__init\\__() Method</b> <br>\n",
    " &nbsp;&nbsp;&nbsp;&nbsp; a) The 'self' Attribute <br>\n",
    "4) <b>Class Attributes</b> <br>\n",
    " &nbsp;&nbsp;&nbsp;&nbsp; a) Initializing Attributes <br>\n",
    " &nbsp;&nbsp;&nbsp;&nbsp; b) Setting an Attribute Outside of the \\__init\\__() Method <br>\n",
    " &nbsp;&nbsp;&nbsp;&nbsp; c) Setting Defaults for Attributes <br>\n",
    " &nbsp;&nbsp;&nbsp;&nbsp; d) Accessing Class Attributes <br>\n",
    " &nbsp;&nbsp;&nbsp;&nbsp; e) Changing Class Attributes <br>\n",
    " &nbsp;&nbsp;&nbsp;&nbsp; f) In-Class Exercise #2 - Add a color and wheels attribute to your 'Car' class <br>\n",
    "5) <b>Class Methods</b> <br>\n",
    " &nbsp;&nbsp;&nbsp;&nbsp; a) Creating <br>\n",
    " &nbsp;&nbsp;&nbsp;&nbsp; b) Calling <br>\n",
    " &nbsp;&nbsp;&nbsp;&nbsp; c) Modifying an Attribute's Value Through a Method <br>\n",
    " &nbsp;&nbsp;&nbsp;&nbsp; d) Incrementing an Attribute's Value Through a Method <br>\n",
    " &nbsp;&nbsp;&nbsp;&nbsp; e) In-Class Exercise #3 - Add a method that prints the cars color and wheel number, then call them <br>\n",
    "6) <b>Inheritance</b> <br>\n",
    " &nbsp;&nbsp;&nbsp;&nbsp; a) Syntax for Inheriting from a Parent Class <br>\n",
    " &nbsp;&nbsp;&nbsp;&nbsp; b) The \\__init\\__() Method for a Child Class (super()) <br>\n",
    " &nbsp;&nbsp;&nbsp;&nbsp; c) Defining Attributes and Methods for the Child Class <br>\n",
    " &nbsp;&nbsp;&nbsp;&nbsp; d) Method Overriding <br>\n",
    " &nbsp;&nbsp;&nbsp;&nbsp; e) In-Class Exercise #4 - Create a class 'Ford' that inherits from 'Car' class and initialize it as a Blue Ford Explorer with 4 wheels using the super() method <br>\n",
    "7) <b>Classes as Attributes</b> <br>\n",
    "8) <b>Exercises</b> <br>\n",
    " &nbsp;&nbsp;&nbsp;&nbsp; a) Exercise #1 - Turn the shopping cart program from yesterday into an object-oriented program <br>"
   ]
  },
  {
   "cell_type": "code",
   "execution_count": null,
   "metadata": {},
   "outputs": [],
   "source": [
    "# Shopping Cart Example\n",
    "\n",
    "from IPython.display import clear_output\n"
   ]
  },
  {
   "cell_type": "code",
   "execution_count": null,
   "metadata": {},
   "outputs": [],
   "source": [
    "# Circumfrance of a cirle\n"
   ]
  },
  {
   "cell_type": "markdown",
   "metadata": {},
   "source": [
    "## Creating a Class (Initializing/Declaring)\n",
    "<p>When creating a class, function, or even a variable you are initializing that object. Initializing and Declaring occur at the same time in Python, whereas in lower level languages you have to declare an object before initializing it. This is the first step in the process of using a class.</p>"
   ]
  },
  {
   "cell_type": "code",
   "execution_count": null,
   "metadata": {},
   "outputs": [],
   "source": [
    "class Car():#class always capital first letter\n",
    "    wheels=4\n",
    "    color=\"blue\""
   ]
  },
  {
   "cell_type": "markdown",
   "metadata": {},
   "source": [
    "## Using a Class (Instantiating)\n",
    "<p>The process of creating a class is called <i>Instantiating</i>. Each time you create a variable of that type of class, it is referred to as an <i>Instance</i> of that class. This is the second step in the process of using a class.</p>"
   ]
  },
  {
   "cell_type": "markdown",
   "metadata": {},
   "source": [
    "##### Creating One Instance"
   ]
  },
  {
   "cell_type": "code",
   "execution_count": null,
   "metadata": {},
   "outputs": [],
   "source": [
    "ford = Car()"
   ]
  },
  {
   "cell_type": "markdown",
   "metadata": {},
   "source": [
    "##### Creating Multiple Instances"
   ]
  },
  {
   "cell_type": "code",
   "execution_count": null,
   "metadata": {},
   "outputs": [],
   "source": [
    "chevy = Car()\n",
    "honda = Car()\n",
    "porsche = Car()\n",
    "\n",
    "porsche.color\n"
   ]
  },
  {
   "cell_type": "markdown",
   "metadata": {},
   "source": [
    "##### In-Class Exercise #1 - Create a Class 'Car' and Instantiate three different makes of cars"
   ]
  },
  {
   "cell_type": "code",
   "execution_count": null,
   "metadata": {},
   "outputs": [],
   "source": [
    "# Add doors, a new color, wheels, and a sunRoof\n",
    "class Car():\n",
    "    doors = 4 #constant attributes\n",
    "    color = 'red'\n",
    "    wheels = 4\n",
    "    sunRoof = True\n",
    "mazda = Car()\n",
    "ford = Car()\n",
    "honda = Car()\n",
    "print(mazda.color,mazda.sunRoof)"
   ]
  },
  {
   "cell_type": "markdown",
   "metadata": {},
   "source": [
    "## The \\__init\\__() Method <br>\n",
    "<p>This method is used in almost every created class, and called only once upon the creation of the class instance. This method will initialize all variables needed for the object.</p>"
   ]
  },
  {
   "cell_type": "code",
   "execution_count": null,
   "metadata": {},
   "outputs": [],
   "source": [
    "class Toy():\n",
    "    kind = 'car'#constant attribute\n",
    "    \n",
    "    def __init__(self,rooftop,horn,wheels):#method\n",
    "        self.rooftop = rooftop\n",
    "        self.horn = horn\n",
    "        self.wheels = wheels\n",
    "        \n",
    "hotwheels_car = Toy(1,1,4)\n",
    "tanka_truck = Toy(0,1,1)\n",
    "\n",
    "print(hotwheels_car.wheels)\n",
    "print(tanka_truck.wheels)\n",
    "    "
   ]
  },
  {
   "cell_type": "markdown",
   "metadata": {},
   "source": [
    "##### The 'self' Attribute <br>\n",
    "<p>This attribute is required to keep track of specific instance's attributes. Without the self attribute, the program would not know how to reference or keep track of an instance's attributes.</p>"
   ]
  },
  {
   "cell_type": "code",
   "execution_count": null,
   "metadata": {},
   "outputs": [],
   "source": [
    "# see above"
   ]
  },
  {
   "cell_type": "markdown",
   "metadata": {},
   "source": [
    "## Class Attributes <br>\n",
    "<p>While variables are inside of a class, they are referred to as attributes and not variables. When someone says 'attribute' you know they're speaking about a class. Attributes can be initialized through the init method, or outside of it.</p>"
   ]
  },
  {
   "cell_type": "markdown",
   "metadata": {},
   "source": [
    "##### Initializing Attributes"
   ]
  },
  {
   "cell_type": "code",
   "execution_count": null,
   "metadata": {},
   "outputs": [],
   "source": [
    "# see above"
   ]
  },
  {
   "cell_type": "markdown",
   "metadata": {},
   "source": [
    "##### Accessing Class Attributes"
   ]
  },
  {
   "cell_type": "code",
   "execution_count": null,
   "metadata": {
    "scrolled": true
   },
   "outputs": [],
   "source": [
    "# See Above"
   ]
  },
  {
   "cell_type": "markdown",
   "metadata": {},
   "source": [
    "##### Setting Defaults for Attributes"
   ]
  },
  {
   "cell_type": "code",
   "execution_count": null,
   "metadata": {},
   "outputs": [],
   "source": [
    "# See Above\n",
    "class Human():\n",
    "    \n",
    "    def __init__(self, walking, height, weight, talk=True, eyes = 'brown'):\n",
    "        self.walking = walking\n",
    "        self.height = height\n",
    "        self.talk = talk\n",
    "        self.weight = weight\n",
    "        self.eyes = eyes\n",
    "        \n",
    "weight = input(\"how much do youo weight?\")\n",
    "        \n",
    "celeste = Human(True, \"6 ft lin\",'200 lbs')\n",
    "print(celeste.talk)\n",
    "print(celeste.eyes)\n",
    "print(celeste.weight)\n",
    "print(celeste.walking)"
   ]
  },
  {
   "cell_type": "markdown",
   "metadata": {},
   "source": [
    "##### Changing Class Attributes <br>\n",
    "<p>Keep in mind there are global class attributes and then there are attributes only available to each class instance which won't effect other classes.</p>"
   ]
  },
  {
   "cell_type": "code",
   "execution_count": null,
   "metadata": {},
   "outputs": [],
   "source": [
    "tanka_truck.kind = 'truck'\n",
    "print(tanka_truck.kind)\n",
    "print(hotwheels_car.kind)"
   ]
  },
  {
   "cell_type": "code",
   "execution_count": null,
   "metadata": {},
   "outputs": [],
   "source": [
    "celeste.weight = \"108lb\"\n",
    "print(celeste.weight)"
   ]
  },
  {
   "cell_type": "markdown",
   "metadata": {},
   "source": [
    "##### In-Class Exercise #2 - Add a doors and seats attribute to your 'Car' class then print out two different instances with different doors and seats"
   ]
  },
  {
   "cell_type": "code",
   "execution_count": null,
   "metadata": {},
   "outputs": [],
   "source": [
    "class Car():\n",
    "    attribute = 'car'\n",
    "    def __init__(self, door1, door2, seat):\n",
    "        self.door1 = door1\n",
    "        self.door2 = door2\n",
    "        self.seat = seat\n",
    "rari=Car('purple','horse','teal')#instantiated\n",
    "tesla= Car('tidedye',\"melon\",'leather')#instantiated\n",
    "print(rari.door1, rari.door2, rari.seat)\n",
    "print(tesla.door1, tesla.door2, tesla.seat)\n"
   ]
  },
  {
   "cell_type": "markdown",
   "metadata": {},
   "source": [
    "## Class Methods <br>\n",
    "<p>While inside of a class, functions are referred to as 'methods'. If you hear someone mention methods, they're speaking about classes. Methods are essentially functions, but only callable on the instances of a class.</p>"
   ]
  },
  {
   "cell_type": "markdown",
   "metadata": {},
   "source": [
    "##### Creating"
   ]
  },
  {
   "cell_type": "code",
   "execution_count": null,
   "metadata": {},
   "outputs": [],
   "source": [
    "# class ShoppingBag():\n",
    "    \n",
    "#     def __init__(self,handles,capacity,items):\n",
    "#         self.handles = handles\n",
    "#         self.capacity = capacity\n",
    "#         self.items= items\n",
    "#     '''shopping bag will require 3 positional arguments\n",
    "#     handles which is expected to be an intenger\n",
    "#     cacpacity which is expected to be an integer\n",
    "#     items which is expected to be a list'''\n",
    "#     #method to show shopping bag\n",
    "#     def showShoppingBag(self):\n",
    "        \n",
    "#         print(\"you have items in your bag\")\n",
    "#         for item in self.items:\n",
    "#             print(item)\n",
    "#     #method to show the capacity of the bag\n",
    "#     def showCapacity(self):\n",
    "        \n",
    "#         print(f\"Your Capacity is {self.capacity}\")\n",
    "#     #method to add to the shopping bag\n",
    "#     def addToShoppingBag(self):\n",
    "        \n",
    "#         product = input(\"what would you like to add?\")\n",
    "#         self.items.append(product)\n",
    "#     #Method to change current Capacity\n",
    "#     def changeBagCapacity(self, capacity):\n",
    "        \n",
    "#         '''changebagCapacity assumes capacity will be an integer'''\n",
    "        \n",
    "#         self.capacity =  capacity\n",
    "#     #Method to Auto Increase Capacity    \n",
    "#     def autoIncreaseCapacity(self):\n",
    "        \n",
    "#         if self.capacity == isinstance(self.capacity,str):\n",
    "#             print(\"HEY can't do that here buddy...\")\n",
    "#         else:\n",
    "#             self.capacity += 10\n",
    "#     def run():\n",
    "        \n",
    "#         whole_food_bag = ShoppingBag(2,10,[])\n",
    "\n",
    "        \n",
    "#         while True:\n",
    "            \n",
    "#             response = input(\"Do you want to stop?\")\n",
    "#             if response.lower()=='add':\n",
    "#                 whole_food_bag.addToShoppingBag()\n",
    "#             if response.lower() == 'show':\n",
    "#                 whole_food_bag.showShoppingbag()\n",
    "#             if response.lower() == 'quit':\n",
    "#                 print('Here is your bag. .  .')\n",
    "#                 whole_food_bag.showShoppingBag()\n",
    "                \n",
    "\n",
    "\n",
    "# #import math \n",
    "# run()\n",
    "class ShoppingBag():\n",
    "    def __init__(self, handles,capacity,items):\n",
    "        self.handles = handles\n",
    "        self.capacity = capacity\n",
    "        self.items = items\n",
    "        \"\"\"\n",
    "            ShoppingBag will require 3 positional arguments\n",
    "handles which is expected to be an integer\n",
    "            capacity which is expected to be an integer\n",
    "            items which is expected to be a list - list can be empty\n",
    "        \"\"\"\n",
    "    # Method to show ShoppingBag\n",
    "    def showShoppingBag(self):\n",
    "        print(\"You have items in your bag!\")\n",
    "        for item in self.items:\n",
    "            print(item)\n",
    "    # Method to show the capacity of the bag\n",
    "    def showCapacity(self):\n",
    "        print(f\"Your capacity is {self.capacity}.\")\n",
    "    # Method to add to the ShoppingBag\n",
    "    def addToShoppingBag(self):\n",
    "        product = input(\"What would you like to add?\")\n",
    "        self.items.append(product)\n",
    "    # Method to change the current capacity\n",
    "    def changeBagCapacity(self, capacity):#have to also call the capacity we are going to change\n",
    "        \"\"\"\n",
    "            changeBagCapacity assumes capacity will be an integer\n",
    "        \"\"\"\n",
    "        self.capacity = capacity\n",
    "    # Method to auto increase capacity\n",
    "        def autoIncreaseCapacity(self):\n",
    "            if self.capacity == isinstance(self.capacity, str):\n",
    "                print(\"You can't do that here.\")\n",
    "            else:\n",
    "                self.capacity += 10\n",
    "def run():\n",
    "    whole_food_bag = ShoppingBag(2,10,[])\n",
    "    while True:\n",
    "        response = input(\"What do you want to do - Add/Show or quit?\")\n",
    "        if response.lower() == 'add':\n",
    "            whole_food_bag.addToShoppingBag()\n",
    "        if response.lower() == 'show':\n",
    "            whole_food_bag.showShoppingBag()\n",
    "        if response.lower() == 'quit':\n",
    "            whole_food_bag.showShoppingBag()\n",
    "            break\n",
    "run()\n"
   ]
  },
  {
   "cell_type": "markdown",
   "metadata": {},
   "source": [
    "##### Calling"
   ]
  },
  {
   "cell_type": "code",
   "execution_count": null,
   "metadata": {},
   "outputs": [],
   "source": [
    "# See Above\n"
   ]
  },
  {
   "cell_type": "markdown",
   "metadata": {},
   "source": [
    "##### Modifying an Attribute's Value Through a Method"
   ]
  },
  {
   "cell_type": "code",
   "execution_count": null,
   "metadata": {},
   "outputs": [],
   "source": [
    "whole_food_bag.showCapacity()\n",
    "print(\"Capacity AFTER the change\")\n",
    "whole_food_bag.changeBagCapacity(20)\n",
    "whole_food_bag.showCapacity()\n"
   ]
  },
  {
   "cell_type": "markdown",
   "metadata": {},
   "source": [
    "##### Incrementing an Attribute's Value Through a Method"
   ]
  },
  {
   "cell_type": "code",
   "execution_count": null,
   "metadata": {},
   "outputs": [],
   "source": [
    "whole_food_bag.showCapacity()\n",
    "\n",
    "print(\"Capacity After increase\")\n",
    "\n",
    "whole_food_bag.autoIncreaseCapacity()\n",
    "\n",
    "whole_food_bag.showCapacity()\n"
   ]
  },
  {
   "cell_type": "markdown",
   "metadata": {},
   "source": [
    "##### In-Class Exercise #3 - Add a method that takes in three parameters of year, doors and seats and prints out a formatted print statement with make, model, year, seats, and doors"
   ]
  },
  {
   "cell_type": "code",
   "execution_count": 1,
   "metadata": {},
   "outputs": [
    {
     "name": "stdout",
     "output_type": "stream",
     "text": [
      "What year do you like?0\n",
      "This car is from 0 , Ford Explorer that has 4 doors and 5 seats.\n"
     ]
    }
   ],
   "source": [
    "# creat a class with 2 parameters \n",
    "# inside if the __init__ which are the make and model\n",
    "# inside of the car create a method that has \n",
    "# 4 parameter in total (self,year,door,seats)\n",
    "# output: this car is from 2019  and is a\n",
    "# ford explorer and has  4 doors and 5 seats\n",
    "class Car():\n",
    "    def __init__(self, make, model):\n",
    "        self.make = make \n",
    "        self.model = model \n",
    "      \n",
    "    def printInfo(self, year, door, seat):\n",
    "        print(f\"This car is from {year} , { self.make} { self.model} that has {door} doors and {seat} seats.\")\n",
    "year = input(\"What year do you like?\")\n",
    "\n",
    "ford = Car(\"Ford\", \"Explorer\")\n",
    "ford.printInfo(year,4,5)\n"
   ]
  },
  {
   "cell_type": "markdown",
   "metadata": {},
   "source": [
    "## Inheritance <br>\n",
    "<p>You can create a child-parent relationship between two classes by using inheritance. What this allows you to do is have overriding methods, but also inherit traits from the parent class. Think of it as an actual parent and child, the child will inherit the parent's genes, as will the classes in OOP</p>"
   ]
  },
  {
   "cell_type": "markdown",
   "metadata": {},
   "source": [
    "##### Syntax for Inheriting from a Parent Class"
   ]
  },
  {
   "cell_type": "code",
   "execution_count": null,
   "metadata": {},
   "outputs": [],
   "source": [
    "class Animal():\n",
    "    acceleration = 9.8\n",
    "    def __init__(self, name, species, legs=4):\n",
    "        self.name = name\n",
    "        self.species = species\n",
    "        self.legs = legs\n",
    "    def makeSound(self):\n",
    "        print('some generic sound')\n",
    "class Dog(Animal):\n",
    "    speed = 15\n",
    "    def __init__(self, name, species, color, legs=4):\n",
    "        Animal.__init__(self,name,species,legs)\n",
    "        self.color = color\n",
    "    def printInfo(self):\n",
    "        print(f\"this dog is {self.color} and their name is {self.name}\")\n",
    "    def makeSound(self):\n",
    "              print(\"Bark\")\n",
    "lassie = Dog(\"Lassie\",\"Canine\",\"Blonde/White\")\n",
    "print(lassie.acceleration)\n",
    "print(lassie.name)"
   ]
  },
  {
   "cell_type": "markdown",
   "metadata": {},
   "source": [
    "##### The \\__init\\__() Method for a Child Class - super()"
   ]
  },
  {
   "cell_type": "code",
   "execution_count": null,
   "metadata": {
    "scrolled": true
   },
   "outputs": [],
   "source": []
  },
  {
   "cell_type": "markdown",
   "metadata": {},
   "source": [
    "##### Defining Attributes and Methods for the Child Class"
   ]
  },
  {
   "cell_type": "code",
   "execution_count": null,
   "metadata": {},
   "outputs": [],
   "source": [
    "# See Above"
   ]
  },
  {
   "cell_type": "markdown",
   "metadata": {},
   "source": [
    "##### Method Overriding"
   ]
  },
  {
   "cell_type": "code",
   "execution_count": null,
   "metadata": {},
   "outputs": [],
   "source": [
    "# See Above"
   ]
  },
  {
   "cell_type": "markdown",
   "metadata": {},
   "source": [
    "##### In-Class Exercise #4 - Create a class 'Ford' that inherits from 'Car' class and initialize it as a Blue Ford Explorer with 4 wheels using the super() method, add a method to car which prints 'this is a car' and create an overriding method in class Ford that prints the information on the car"
   ]
  },
  {
   "cell_type": "code",
   "execution_count": 11,
   "metadata": {},
   "outputs": [
    {
     "name": "stdout",
     "output_type": "stream",
     "text": [
      "Blue Ford Explorer 4\n"
     ]
    }
   ],
   "source": [
    "# DO FOR HOMEWORK!!\n",
    "class Car():\n",
    "    speed = 200\n",
    "    def __init__(self, make, wheels):#attributes are data/methods are code\n",
    "        self.make = make\n",
    "        self.wheels = wheels\n",
    "class Ford(Car):\n",
    "    def __init__(self, color, make, wheels):\n",
    "        self.color = color\n",
    "        super(Ford, self).__init__(make, wheels)\n",
    "Initialize = Ford('Blue','Ford Explorer',4)\n",
    "print(Initialize.color, Initialize.make, Initialize.wheels)\n",
    "    "
   ]
  },
  {
   "cell_type": "markdown",
   "metadata": {},
   "source": [
    "## Classes as Attributes <br>\n",
    "<p>Classes can also be used as attributes within another class. This is useful in situations where you need to keep variables locally stored, instead of globally stored.</p>"
   ]
  },
  {
   "cell_type": "code",
   "execution_count": 3,
   "metadata": {},
   "outputs": [
    {
     "name": "stdout",
     "output_type": "stream",
     "text": [
      "2020 Tesla\n",
      "7.8\n"
     ]
    }
   ],
   "source": [
    "class Battery():\n",
    "    volts = 7.8\n",
    "    def __init__(self,cells):\n",
    "        self.cells = cells\n",
    "class Car():\n",
    "    def __init__(self,year,make,model,battery):\n",
    "        self.year =year\n",
    "        self.make = make\n",
    "        self.model =model\n",
    "        self.battery =battery\n",
    "    def printInfo(self):\n",
    "        print(self.year,self.make)\n",
    "        \n",
    "batt = Battery(20)\n",
    "\n",
    "tesla = Car(2020, \"Tesla\",\"modelX\",batt)\n",
    "\n",
    "tesla.printInfo()\n",
    "\n",
    "print(tesla.battery.volts)"
   ]
  },
  {
   "cell_type": "markdown",
   "metadata": {},
   "source": [
    "# Exercises"
   ]
  },
  {
   "cell_type": "markdown",
   "metadata": {},
   "source": [
    "### Exercise 1 - Turn the shopping cart program from yesterday into an object-oriented program\n",
    "\n",
    "The comments in the cell below are there as a guide for thinking about the problem. However, if you feel a different way is best for you and your own thought process, please do what feels best for you by all means."
   ]
  },
  {
   "cell_type": "code",
   "execution_count": null,
   "metadata": {
    "scrolled": true
   },
   "outputs": [],
   "source": [
    "# Create a class called cart that retains items and has methods to add, remove, and show\n",
    "\n",
    "class Cart():\n",
    "    def __init__(self):\n",
    "        self.items = list()\n",
    "    def add(self, item):#args extra data \n",
    "        self.items.append(item)\n",
    "    def remove(self, item):\n",
    "        self.items.remove(item)\n",
    "    def show(self):\n",
    "        print(self.items)\n",
    "def shoppingcart():\n",
    "    cart = Cart()\n",
    "\n",
    "    while True:\n",
    "        \n",
    "        response = input(\"Do you want to add/delete/quit/print?  \")\n",
    "        \n",
    "        if response == 'quit':#add was not \"quit\" so it moves to next if\n",
    "            return \n",
    "        \n",
    "        elif response == 'add':# says yes to this if so it does the loop\n",
    "            \n",
    "            adding = input('Which item(s)?')\n",
    "            cart.add(adding)#adds the item in list instead of Cart.add(cart,adding)\n",
    "            \n",
    "        elif response == 'delete': #onion is not delete\n",
    "        \n",
    "            deleting = input('Delete which item(s)?')\n",
    "            cart.remove(deleting)\n",
    "            \n",
    "        elif response == 'print':#onion was not \"print\"\n",
    "            cart.show()\n",
    "                \n",
    "        elif response !=\"quit\" and \"add\" and \"delete\" and \"print\":\n",
    "            #last response was onion which whats not any of these options\n",
    "            print('try again')\n",
    "            \n",
    "    return items\n",
    "\n",
    "shoppingcart()\n",
    "    "
   ]
  },
  {
   "cell_type": "code",
   "execution_count": null,
   "metadata": {},
   "outputs": [],
   "source": []
  }
 ],
 "metadata": {
  "kernelspec": {
   "display_name": "Python 3",
   "language": "python",
   "name": "python3"
  },
  "language_info": {
   "codemirror_mode": {
    "name": "ipython",
    "version": 3
   },
   "file_extension": ".py",
   "mimetype": "text/x-python",
   "name": "python",
   "nbconvert_exporter": "python",
   "pygments_lexer": "ipython3",
   "version": "3.7.6"
  }
 },
 "nbformat": 4,
 "nbformat_minor": 2
}
